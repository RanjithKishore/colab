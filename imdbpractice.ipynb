{
  "nbformat": 4,
  "nbformat_minor": 0,
  "metadata": {
    "colab": {
      "name": "imdbpractice.ipynb",
      "provenance": [],
      "collapsed_sections": [],
      "authorship_tag": "ABX9TyONvzGNG1+R0UCBhvwIUKko",
      "include_colab_link": true
    },
    "kernelspec": {
      "name": "python3",
      "display_name": "Python 3"
    }
  },
  "cells": [
    {
      "cell_type": "markdown",
      "metadata": {
        "id": "view-in-github",
        "colab_type": "text"
      },
      "source": [
        "<a href=\"https://colab.research.google.com/github/RanjithKishore/colab/blob/master/imdbpractice.ipynb\" target=\"_parent\"><img src=\"https://colab.research.google.com/assets/colab-badge.svg\" alt=\"Open In Colab\"/></a>"
      ]
    },
    {
      "cell_type": "code",
      "metadata": {
        "id": "zhwbeojbLOMG",
        "colab_type": "code",
        "colab": {}
      },
      "source": [
        "import tensorflow"
      ],
      "execution_count": 1,
      "outputs": []
    },
    {
      "cell_type": "code",
      "metadata": {
        "id": "Vyg0Jv4mLUw4",
        "colab_type": "code",
        "colab": {
          "base_uri": "https://localhost:8080/",
          "height": 34
        },
        "outputId": "7a0c90e4-c7b6-4f81-d8f6-982f8326bca9"
      },
      "source": [
        "import keras"
      ],
      "execution_count": 2,
      "outputs": [
        {
          "output_type": "stream",
          "text": [
            "Using TensorFlow backend.\n"
          ],
          "name": "stderr"
        }
      ]
    },
    {
      "cell_type": "code",
      "metadata": {
        "id": "Btlg78ccLXbw",
        "colab_type": "code",
        "colab": {
          "base_uri": "https://localhost:8080/",
          "height": 34
        },
        "outputId": "4a205d36-8286-4e26-a838-0db9bb186c39"
      },
      "source": [
        "%tensorflow_version 1.x"
      ],
      "execution_count": 3,
      "outputs": [
        {
          "output_type": "stream",
          "text": [
            "TensorFlow is already loaded. Please restart the runtime to change versions.\n"
          ],
          "name": "stdout"
        }
      ]
    },
    {
      "cell_type": "code",
      "metadata": {
        "id": "1I54kdsILZoQ",
        "colab_type": "code",
        "colab": {}
      },
      "source": [
        "from keras.datasets import imdb\n",
        "(train_data,train_labels),(test_data,test_labels)=imdb.load_data(num_words=10000)"
      ],
      "execution_count": 3,
      "outputs": []
    },
    {
      "cell_type": "code",
      "metadata": {
        "id": "ibd1DKY-LxSm",
        "colab_type": "code",
        "colab": {}
      },
      "source": [
        "train_data[0]"
      ],
      "execution_count": null,
      "outputs": []
    },
    {
      "cell_type": "code",
      "metadata": {
        "id": "KC1iIV_HL1NZ",
        "colab_type": "code",
        "colab": {
          "base_uri": "https://localhost:8080/",
          "height": 34
        },
        "outputId": "8de57aec-7a3a-4781-997c-3cc940ec24cc"
      },
      "source": [
        "train_labels[0]"
      ],
      "execution_count": 7,
      "outputs": [
        {
          "output_type": "execute_result",
          "data": {
            "text/plain": [
              "1"
            ]
          },
          "metadata": {
            "tags": []
          },
          "execution_count": 7
        }
      ]
    },
    {
      "cell_type": "code",
      "metadata": {
        "id": "rxZ99xupMddv",
        "colab_type": "code",
        "colab": {}
      },
      "source": [
        "import numpy as np\n",
        "def vectorize_sequences(sequences,dimension=10000):\n",
        "  results=np.zeros((len(sequences),dimension))\n",
        "  for i,sequence in enumerate(sequences):\n",
        "    results[i,sequence]=1\n",
        "  return results\n"
      ],
      "execution_count": 16,
      "outputs": []
    },
    {
      "cell_type": "code",
      "metadata": {
        "id": "DBJHIi7VNgX-",
        "colab_type": "code",
        "colab": {}
      },
      "source": [
        "x_train=vectorize_sequences(train_data)\n",
        "x_test=vectorize_sequences(test_data)"
      ],
      "execution_count": 17,
      "outputs": []
    },
    {
      "cell_type": "code",
      "metadata": {
        "id": "CmnY792AOAnx",
        "colab_type": "code",
        "colab": {
          "base_uri": "https://localhost:8080/",
          "height": 136
        },
        "outputId": "4c9f79a8-ae51-4338-dde4-3fab5576fbb9"
      },
      "source": [
        "x_train"
      ],
      "execution_count": 18,
      "outputs": [
        {
          "output_type": "execute_result",
          "data": {
            "text/plain": [
              "array([[0., 1., 1., ..., 0., 0., 0.],\n",
              "       [0., 1., 1., ..., 0., 0., 0.],\n",
              "       [0., 1., 1., ..., 0., 0., 0.],\n",
              "       ...,\n",
              "       [0., 1., 1., ..., 0., 0., 0.],\n",
              "       [0., 1., 1., ..., 0., 0., 0.],\n",
              "       [0., 1., 1., ..., 0., 0., 0.]])"
            ]
          },
          "metadata": {
            "tags": []
          },
          "execution_count": 18
        }
      ]
    },
    {
      "cell_type": "code",
      "metadata": {
        "id": "RsKUXHT0O_77",
        "colab_type": "code",
        "colab": {}
      },
      "source": [
        "y_train=np.asarray(train_labels).astype('float32')\n",
        "y_test=np.asarray(test_labels).astype('float32')"
      ],
      "execution_count": 19,
      "outputs": []
    },
    {
      "cell_type": "code",
      "metadata": {
        "id": "9kw1paGHPyf6",
        "colab_type": "code",
        "colab": {
          "base_uri": "https://localhost:8080/",
          "height": 908
        },
        "outputId": "6b8d6be4-a2a8-4331-de48-9f2b03716126"
      },
      "source": [
        "from keras import models,layers\n",
        "model=models.Sequential()\n",
        "model.add(layers.Dense(32,activation='relu',input_shape=(10000,)))\n",
        "model.add(layers.Dense(16,activation='relu'))\n",
        "model.add(layers.Dense(8,activation='relu'))\n",
        "model.add(layers.Dense(1,activation='sigmoid'))\n",
        "model.compile(optimizer='adam',loss='mse',metrics=['accuracy'])\n",
        "history=model.fit(x_train[:23000],y_train[:23000],epochs=18,batch_size=512,validation_data=(x_train[23000:],y_train[23000:]))\n",
        "import matplotlib.pyplot as plt\n",
        "history_dict=history.history\n",
        "loss_values=history_dict['loss']\n",
        "val_loss=history_dict['val_loss']\n",
        "epochs=range(1,19)\n",
        "plt.plot(epochs,loss_values,'bo',label='T loss')\n",
        "plt.plot(epochs,val_loss,'b',label='V loss')\n",
        "plt.xlabel('Epochs')\n",
        "plt.ylabel('Loss')\n",
        "plt.legend()\n",
        "plt.show()\n"
      ],
      "execution_count": 40,
      "outputs": [
        {
          "output_type": "stream",
          "text": [
            "Train on 23000 samples, validate on 2000 samples\n",
            "Epoch 1/18\n",
            "23000/23000 [==============================] - 4s 153us/step - loss: 0.1646 - accuracy: 0.7976 - val_loss: 0.0983 - val_accuracy: 0.8835\n",
            "Epoch 2/18\n",
            "23000/23000 [==============================] - 2s 108us/step - loss: 0.0703 - accuracy: 0.9149 - val_loss: 0.0855 - val_accuracy: 0.8905\n",
            "Epoch 3/18\n",
            "23000/23000 [==============================] - 2s 90us/step - loss: 0.0470 - accuracy: 0.9456 - val_loss: 0.0825 - val_accuracy: 0.8955\n",
            "Epoch 4/18\n",
            "23000/23000 [==============================] - 2s 85us/step - loss: 0.0346 - accuracy: 0.9628 - val_loss: 0.0848 - val_accuracy: 0.8925\n",
            "Epoch 5/18\n",
            "23000/23000 [==============================] - 3s 114us/step - loss: 0.0252 - accuracy: 0.9756 - val_loss: 0.0881 - val_accuracy: 0.8890\n",
            "Epoch 6/18\n",
            "23000/23000 [==============================] - 3s 116us/step - loss: 0.0183 - accuracy: 0.9835 - val_loss: 0.0908 - val_accuracy: 0.8880\n",
            "Epoch 7/18\n",
            "23000/23000 [==============================] - 2s 100us/step - loss: 0.0132 - accuracy: 0.9886 - val_loss: 0.0950 - val_accuracy: 0.8850\n",
            "Epoch 8/18\n",
            "23000/23000 [==============================] - 3s 115us/step - loss: 0.0102 - accuracy: 0.9910 - val_loss: 0.0972 - val_accuracy: 0.8815\n",
            "Epoch 9/18\n",
            "23000/23000 [==============================] - 3s 117us/step - loss: 0.0083 - accuracy: 0.9925 - val_loss: 0.0984 - val_accuracy: 0.8830\n",
            "Epoch 10/18\n",
            "23000/23000 [==============================] - 2s 106us/step - loss: 0.0075 - accuracy: 0.9930 - val_loss: 0.1003 - val_accuracy: 0.8820\n",
            "Epoch 11/18\n",
            "23000/23000 [==============================] - 3s 117us/step - loss: 0.0069 - accuracy: 0.9934 - val_loss: 0.1013 - val_accuracy: 0.8780\n",
            "Epoch 12/18\n",
            "23000/23000 [==============================] - 3s 115us/step - loss: 0.0064 - accuracy: 0.9938 - val_loss: 0.1028 - val_accuracy: 0.8785\n",
            "Epoch 13/18\n",
            "23000/23000 [==============================] - 2s 104us/step - loss: 0.0061 - accuracy: 0.9941 - val_loss: 0.1032 - val_accuracy: 0.8795\n",
            "Epoch 14/18\n",
            "23000/23000 [==============================] - 2s 101us/step - loss: 0.0059 - accuracy: 0.9943 - val_loss: 0.1037 - val_accuracy: 0.8800\n",
            "Epoch 15/18\n",
            "23000/23000 [==============================] - 2s 93us/step - loss: 0.0056 - accuracy: 0.9945 - val_loss: 0.1041 - val_accuracy: 0.8815\n",
            "Epoch 16/18\n",
            "23000/23000 [==============================] - 2s 109us/step - loss: 0.0054 - accuracy: 0.9947 - val_loss: 0.1049 - val_accuracy: 0.8800\n",
            "Epoch 17/18\n",
            "23000/23000 [==============================] - 3s 115us/step - loss: 0.0053 - accuracy: 0.9947 - val_loss: 0.1059 - val_accuracy: 0.8795\n",
            "Epoch 18/18\n",
            "23000/23000 [==============================] - 3s 116us/step - loss: 0.0052 - accuracy: 0.9949 - val_loss: 0.1064 - val_accuracy: 0.8780\n"
          ],
          "name": "stdout"
        },
        {
          "output_type": "display_data",
          "data": {
            "image/png": "[encoded data removed]",
            "text/plain": [
              "<Figure size 432x288 with 1 Axes>"
            ]
          },
          "metadata": {
            "tags": [],
            "needs_background": "light"
          }
        }
      ]
    },
    {
      "cell_type": "code",
      "metadata": {
        "id": "C8gVWrhAYYdH",
        "colab_type": "code",
        "colab": {
          "base_uri": "https://localhost:8080/",
          "height": 34
        },
        "outputId": "0e3a048d-e5b2-4c8f-c965-629044193c5b"
      },
      "source": [
        "history_dict.keys()"
      ],
      "execution_count": 36,
      "outputs": [
        {
          "output_type": "execute_result",
          "data": {
            "text/plain": [
              "dict_keys(['val_loss', 'val_accuracy', 'loss', 'accuracy'])"
            ]
          },
          "metadata": {
            "tags": []
          },
          "execution_count": 36
        }
      ]
    },
    {
      "cell_type": "code",
      "metadata": {
        "id": "8ZmN8oAWRFMg",
        "colab_type": "code",
        "colab": {
          "base_uri": "https://localhost:8080/",
          "height": 279
        },
        "outputId": "7502be60-e906-4a63-e674-fee49f6551a6"
      },
      "source": [
        "acc_values=history_dict['accuracy']\n",
        "val_acc=history_dict['val_accuracy']\n",
        "epochs=range(1,19)\n",
        "plt.plot(epochs,acc_values,'bo',label='T loss')\n",
        "plt.plot(epochs,val_acc,'b',label='V loss')\n",
        "plt.xlabel('Epochs')\n",
        "plt.ylabel('Acc')\n",
        "plt.legend()\n",
        "plt.show()"
      ],
      "execution_count": 37,
      "outputs": [
        {
          "output_type": "display_data",
          "data": {
            "image/png": "[encoded data removed]",
            "text/plain": [
              "<Figure size 432x288 with 1 Axes>"
            ]
          },
          "metadata": {
            "tags": [],
            "needs_background": "light"
          }
        }
      ]
    },
    {
      "cell_type": "code",
      "metadata": {
        "id": "A9rrr7G7YfSf",
        "colab_type": "code",
        "colab": {
          "base_uri": "https://localhost:8080/",
          "height": 34
        },
        "outputId": "e3e15b33-22a5-4320-d9ed-6457be5ee7a7"
      },
      "source": [
        "result=model.evaluate(x_test,y_test)"
      ],
      "execution_count": 41,
      "outputs": [
        {
          "output_type": "stream",
          "text": [
            "25000/25000 [==============================] - 2s 89us/step\n"
          ],
          "name": "stdout"
        }
      ]
    },
    {
      "cell_type": "code",
      "metadata": {
        "id": "T2KNrHUrYzd9",
        "colab_type": "code",
        "colab": {
          "base_uri": "https://localhost:8080/",
          "height": 34
        },
        "outputId": "e2d500ae-d355-4ee1-95db-899b80e72359"
      },
      "source": [
        "result"
      ],
      "execution_count": 42,
      "outputs": [
        {
          "output_type": "execute_result",
          "data": {
            "text/plain": [
              "[0.1166979104271531, 0.8612800240516663]"
            ]
          },
          "metadata": {
            "tags": []
          },
          "execution_count": 42
        }
      ]
    },
    {
      "cell_type": "code",
      "metadata": {
        "id": "sU0UIGMBY0xP",
        "colab_type": "code",
        "colab": {}
      },
      "source": [
        ""
      ],
      "execution_count": null,
      "outputs": []
    }
  ]
}