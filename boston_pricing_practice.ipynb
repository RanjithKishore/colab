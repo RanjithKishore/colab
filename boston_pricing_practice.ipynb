{
  "nbformat": 4,
  "nbformat_minor": 0,
  "metadata": {
    "colab": {
      "name": "boston_pricing_practice.ipynb",
      "provenance": [],
      "authorship_tag": "ABX9TyMY3NhWv56T1WOIC/lcw1PD",
      "include_colab_link": true
    },
    "kernelspec": {
      "name": "python3",
      "display_name": "Python 3"
    }
  },
  "cells": [
    {
      "cell_type": "markdown",
      "metadata": {
        "id": "view-in-github",
        "colab_type": "text"
      },
      "source": [
        "<a href=\"https://colab.research.google.com/github/RanjithKishore/colab/blob/master/boston_pricing_practice.ipynb\" target=\"_parent\"><img src=\"https://colab.research.google.com/assets/colab-badge.svg\" alt=\"Open In Colab\"/></a>"
      ]
    },
    {
      "cell_type": "code",
      "metadata": {
        "id": "wyrVzetDaows",
        "colab_type": "code",
        "colab": {
          "base_uri": "https://localhost:8080/",
          "height": 34
        },
        "outputId": "ba645ff4-6c48-4cf4-c3c3-9eb825dae538"
      },
      "source": [
        "import tensorflow\n",
        "%tensorflow_version 1.x\n",
        "import keras\n",
        "import numpy\n",
        "import matplotlib.pyplot as plt"
      ],
      "execution_count": 30,
      "outputs": [
        {
          "output_type": "stream",
          "text": [
            "TensorFlow is already loaded. Please restart the runtime to change versions.\n"
          ],
          "name": "stdout"
        }
      ]
    },
    {
      "cell_type": "code",
      "metadata": {
        "id": "cjzjkopra49Z",
        "colab_type": "code",
        "colab": {}
      },
      "source": [
        "from keras.datasets import boston_housing as b"
      ],
      "execution_count": 2,
      "outputs": []
    },
    {
      "cell_type": "code",
      "metadata": {
        "id": "07Jyiw2cbAe9",
        "colab_type": "code",
        "colab": {
          "base_uri": "https://localhost:8080/",
          "height": 51
        },
        "outputId": "e5ace402-4d8f-4bad-f3d8-313f5c301278"
      },
      "source": [
        "(train_data,train_targets),(test_data,test_targets)=b.load_data()"
      ],
      "execution_count": 3,
      "outputs": [
        {
          "output_type": "stream",
          "text": [
            "Downloading data from https://s3.amazonaws.com/keras-datasets/boston_housing.npz\n",
            "57344/57026 [==============================] - 0s 2us/step\n"
          ],
          "name": "stdout"
        }
      ]
    },
    {
      "cell_type": "code",
      "metadata": {
        "id": "dUMHTNkYbtpT",
        "colab_type": "code",
        "colab": {
          "base_uri": "https://localhost:8080/",
          "height": 34
        },
        "outputId": "58dc57f3-5f47-476a-8f15-3f5446bc7abd"
      },
      "source": [
        "train_data.shape"
      ],
      "execution_count": 4,
      "outputs": [
        {
          "output_type": "execute_result",
          "data": {
            "text/plain": [
              "(404, 13)"
            ]
          },
          "metadata": {
            "tags": []
          },
          "execution_count": 4
        }
      ]
    },
    {
      "cell_type": "code",
      "metadata": {
        "id": "veV6uUrIbwba",
        "colab_type": "code",
        "colab": {
          "base_uri": "https://localhost:8080/",
          "height": 34
        },
        "outputId": "646c0e2d-0050-486c-d900-22aef098863a"
      },
      "source": [
        "train_targets[0]"
      ],
      "execution_count": 5,
      "outputs": [
        {
          "output_type": "execute_result",
          "data": {
            "text/plain": [
              "15.2"
            ]
          },
          "metadata": {
            "tags": []
          },
          "execution_count": 5
        }
      ]
    },
    {
      "cell_type": "code",
      "metadata": {
        "id": "1tnFsc0Tb21R",
        "colab_type": "code",
        "colab": {}
      },
      "source": [
        "mean=train_data.mean(axis=0)"
      ],
      "execution_count": 6,
      "outputs": []
    },
    {
      "cell_type": "code",
      "metadata": {
        "id": "IHFU1b9xcubN",
        "colab_type": "code",
        "colab": {
          "base_uri": "https://localhost:8080/",
          "height": 85
        },
        "outputId": "b21c9f27-0a53-4ad7-fc7b-abfa1f18db9d"
      },
      "source": [
        "mean"
      ],
      "execution_count": 7,
      "outputs": [
        {
          "output_type": "execute_result",
          "data": {
            "text/plain": [
              "array([3.74511057e+00, 1.14801980e+01, 1.11044307e+01, 6.18811881e-02,\n",
              "       5.57355941e-01, 6.26708168e+00, 6.90106436e+01, 3.74027079e+00,\n",
              "       9.44059406e+00, 4.05898515e+02, 1.84759901e+01, 3.54783168e+02,\n",
              "       1.27408168e+01])"
            ]
          },
          "metadata": {
            "tags": []
          },
          "execution_count": 7
        }
      ]
    },
    {
      "cell_type": "code",
      "metadata": {
        "id": "j5kaNf0fdSGA",
        "colab_type": "code",
        "colab": {}
      },
      "source": [
        "train_data-=mean\n"
      ],
      "execution_count": 8,
      "outputs": []
    },
    {
      "cell_type": "code",
      "metadata": {
        "id": "kGvKFettdXMM",
        "colab_type": "code",
        "colab": {}
      },
      "source": [
        "std=train_data.std(axis=0)\n",
        "train_data=train_data/std\n",
        "test_data-=mean\n",
        "test_data/=std"
      ],
      "execution_count": 10,
      "outputs": []
    },
    {
      "cell_type": "code",
      "metadata": {
        "id": "40AvxLE7eGHm",
        "colab_type": "code",
        "colab": {}
      },
      "source": [
        "from keras import models,layers\n",
        "\n",
        "model=models.Sequential()\n",
        "model.add(layers.Dense(64,activation='relu',input_shape=(13,)))\n",
        "model.add(layers.Dense(64,activation='relu'))\n",
        "model.add(layers.Dense(1))\n",
        "model.compile(optimizer='adam',loss='mse',metrics=['mae'])\n",
        "\n"
      ],
      "execution_count": 17,
      "outputs": []
    },
    {
      "cell_type": "code",
      "metadata": {
        "id": "Xtl9GMnifKbN",
        "colab_type": "code",
        "colab": {
          "base_uri": "https://localhost:8080/",
          "height": 1000
        },
        "outputId": "d2da3241-eb7f-4ab8-9c4d-2de61f815dfb"
      },
      "source": [
        "history=model.fit(train_data[:380],train_targets[:380],epochs=50,batch_size=512,validation_data=(train_data[380:],train_targets[380:]))"
      ],
      "execution_count": 41,
      "outputs": [
        {
          "output_type": "stream",
          "text": [
            "Train on 380 samples, validate on 24 samples\n",
            "Epoch 1/50\n",
            "380/380 [==============================] - 0s 9us/step - loss: 0.9429 - mae: 0.7107 - val_loss: 4.3589 - val_mae: 1.6060\n",
            "Epoch 2/50\n",
            "380/380 [==============================] - 0s 19us/step - loss: 0.8649 - mae: 0.6574 - val_loss: 4.4552 - val_mae: 1.6238\n",
            "Epoch 3/50\n",
            "380/380 [==============================] - 0s 11us/step - loss: 0.7979 - mae: 0.6069 - val_loss: 4.6154 - val_mae: 1.6529\n",
            "Epoch 4/50\n",
            "380/380 [==============================] - 0s 10us/step - loss: 0.7758 - mae: 0.5816 - val_loss: 4.8156 - val_mae: 1.6924\n",
            "Epoch 5/50\n",
            "380/380 [==============================] - 0s 9us/step - loss: 0.7969 - mae: 0.5887 - val_loss: 5.0079 - val_mae: 1.7287\n",
            "Epoch 6/50\n",
            "380/380 [==============================] - 0s 10us/step - loss: 0.8332 - mae: 0.6097 - val_loss: 5.1419 - val_mae: 1.7540\n",
            "Epoch 7/50\n",
            "380/380 [==============================] - 0s 10us/step - loss: 0.8529 - mae: 0.6241 - val_loss: 5.1885 - val_mae: 1.7656\n",
            "Epoch 8/50\n",
            "380/380 [==============================] - 0s 15us/step - loss: 0.8422 - mae: 0.6243 - val_loss: 5.1506 - val_mae: 1.7637\n",
            "Epoch 9/50\n",
            "380/380 [==============================] - 0s 18us/step - loss: 0.8102 - mae: 0.6090 - val_loss: 5.0590 - val_mae: 1.7511\n",
            "Epoch 10/50\n",
            "380/380 [==============================] - 0s 10us/step - loss: 0.7789 - mae: 0.5917 - val_loss: 4.9550 - val_mae: 1.7324\n",
            "Epoch 11/50\n",
            "380/380 [==============================] - 0s 42us/step - loss: 0.7651 - mae: 0.5825 - val_loss: 4.8701 - val_mae: 1.7131\n",
            "Epoch 12/50\n",
            "380/380 [==============================] - 0s 9us/step - loss: 0.7706 - mae: 0.5837 - val_loss: 4.8170 - val_mae: 1.7044\n",
            "Epoch 13/50\n",
            "380/380 [==============================] - 0s 11us/step - loss: 0.7842 - mae: 0.5931 - val_loss: 4.7930 - val_mae: 1.6982\n",
            "Epoch 14/50\n",
            "380/380 [==============================] - 0s 10us/step - loss: 0.7911 - mae: 0.5997 - val_loss: 4.7896 - val_mae: 1.6974\n",
            "Epoch 15/50\n",
            "380/380 [==============================] - 0s 12us/step - loss: 0.7840 - mae: 0.5969 - val_loss: 4.8019 - val_mae: 1.7042\n",
            "Epoch 16/50\n",
            "380/380 [==============================] - 0s 10us/step - loss: 0.7669 - mae: 0.5842 - val_loss: 4.8288 - val_mae: 1.7153\n",
            "Epoch 17/50\n",
            "380/380 [==============================] - 0s 9us/step - loss: 0.7509 - mae: 0.5694 - val_loss: 4.8670 - val_mae: 1.7313\n",
            "Epoch 18/50\n",
            "380/380 [==============================] - 0s 12us/step - loss: 0.7449 - mae: 0.5601 - val_loss: 4.9059 - val_mae: 1.7446\n",
            "Epoch 19/50\n",
            "380/380 [==============================] - 0s 10us/step - loss: 0.7497 - mae: 0.5597 - val_loss: 4.9292 - val_mae: 1.7519\n",
            "Epoch 20/50\n",
            "380/380 [==============================] - 0s 10us/step - loss: 0.7583 - mae: 0.5653 - val_loss: 4.9221 - val_mae: 1.7512\n",
            "Epoch 21/50\n",
            "380/380 [==============================] - 0s 9us/step - loss: 0.7626 - mae: 0.5698 - val_loss: 4.8790 - val_mae: 1.7424\n",
            "Epoch 22/50\n",
            "380/380 [==============================] - 0s 10us/step - loss: 0.7587 - mae: 0.5692 - val_loss: 4.8074 - val_mae: 1.7266\n",
            "Epoch 23/50\n",
            "380/380 [==============================] - 0s 12us/step - loss: 0.7494 - mae: 0.5644 - val_loss: 4.7242 - val_mae: 1.7067\n",
            "Epoch 24/50\n",
            "380/380 [==============================] - 0s 12us/step - loss: 0.7410 - mae: 0.5586 - val_loss: 4.6479 - val_mae: 1.6861\n",
            "Epoch 25/50\n",
            "380/380 [==============================] - 0s 10us/step - loss: 0.7382 - mae: 0.5569 - val_loss: 4.5909 - val_mae: 1.6680\n",
            "Epoch 26/50\n",
            "380/380 [==============================] - 0s 12us/step - loss: 0.7412 - mae: 0.5598 - val_loss: 4.5578 - val_mae: 1.6554\n",
            "Epoch 27/50\n",
            "380/380 [==============================] - 0s 11us/step - loss: 0.7457 - mae: 0.5642 - val_loss: 4.5473 - val_mae: 1.6521\n",
            "Epoch 28/50\n",
            "380/380 [==============================] - 0s 9us/step - loss: 0.7469 - mae: 0.5653 - val_loss: 4.5563 - val_mae: 1.6536\n",
            "Epoch 29/50\n",
            "380/380 [==============================] - 0s 12us/step - loss: 0.7436 - mae: 0.5623 - val_loss: 4.5827 - val_mae: 1.6586\n",
            "Epoch 30/50\n",
            "380/380 [==============================] - 0s 12us/step - loss: 0.7380 - mae: 0.5572 - val_loss: 4.6232 - val_mae: 1.6693\n",
            "Epoch 31/50\n",
            "380/380 [==============================] - 0s 10us/step - loss: 0.7337 - mae: 0.5529 - val_loss: 4.6716 - val_mae: 1.6818\n",
            "Epoch 32/50\n",
            "380/380 [==============================] - 0s 12us/step - loss: 0.7329 - mae: 0.5515 - val_loss: 4.7189 - val_mae: 1.6934\n",
            "Epoch 33/50\n",
            "380/380 [==============================] - 0s 11us/step - loss: 0.7347 - mae: 0.5522 - val_loss: 4.7556 - val_mae: 1.7021\n",
            "Epoch 34/50\n",
            "380/380 [==============================] - 0s 13us/step - loss: 0.7366 - mae: 0.5542 - val_loss: 4.7760 - val_mae: 1.7068\n",
            "Epoch 35/50\n",
            "380/380 [==============================] - 0s 16us/step - loss: 0.7364 - mae: 0.5546 - val_loss: 4.7800 - val_mae: 1.7078\n",
            "Epoch 36/50\n",
            "380/380 [==============================] - 0s 14us/step - loss: 0.7339 - mae: 0.5530 - val_loss: 4.7728 - val_mae: 1.7057\n",
            "Epoch 37/50\n",
            "380/380 [==============================] - 0s 12us/step - loss: 0.7309 - mae: 0.5509 - val_loss: 4.7615 - val_mae: 1.7021\n",
            "Epoch 38/50\n",
            "380/380 [==============================] - 0s 12us/step - loss: 0.7294 - mae: 0.5497 - val_loss: 4.7523 - val_mae: 1.6986\n",
            "Epoch 39/50\n",
            "380/380 [==============================] - 0s 18us/step - loss: 0.7297 - mae: 0.5495 - val_loss: 4.7485 - val_mae: 1.6966\n",
            "Epoch 40/50\n",
            "380/380 [==============================] - 0s 13us/step - loss: 0.7308 - mae: 0.5502 - val_loss: 4.7512 - val_mae: 1.6966\n",
            "Epoch 41/50\n",
            "380/380 [==============================] - 0s 13us/step - loss: 0.7314 - mae: 0.5506 - val_loss: 4.7600 - val_mae: 1.6989\n",
            "Epoch 42/50\n",
            "380/380 [==============================] - 0s 10us/step - loss: 0.7307 - mae: 0.5500 - val_loss: 4.7739 - val_mae: 1.7030\n",
            "Epoch 43/50\n",
            "380/380 [==============================] - 0s 11us/step - loss: 0.7292 - mae: 0.5488 - val_loss: 4.7905 - val_mae: 1.7079\n",
            "Epoch 44/50\n",
            "380/380 [==============================] - 0s 9us/step - loss: 0.7277 - mae: 0.5477 - val_loss: 4.8069 - val_mae: 1.7126\n",
            "Epoch 45/50\n",
            "380/380 [==============================] - 0s 9us/step - loss: 0.7270 - mae: 0.5475 - val_loss: 4.8185 - val_mae: 1.7156\n",
            "Epoch 46/50\n",
            "380/380 [==============================] - 0s 9us/step - loss: 0.7271 - mae: 0.5477 - val_loss: 4.8221 - val_mae: 1.7165\n",
            "Epoch 47/50\n",
            "380/380 [==============================] - 0s 9us/step - loss: 0.7273 - mae: 0.5476 - val_loss: 4.8163 - val_mae: 1.7148\n",
            "Epoch 48/50\n",
            "380/380 [==============================] - 0s 12us/step - loss: 0.7270 - mae: 0.5471 - val_loss: 4.8021 - val_mae: 1.7111\n",
            "Epoch 49/50\n",
            "380/380 [==============================] - 0s 13us/step - loss: 0.7262 - mae: 0.5460 - val_loss: 4.7829 - val_mae: 1.7060\n",
            "Epoch 50/50\n",
            "380/380 [==============================] - 0s 10us/step - loss: 0.7254 - mae: 0.5452 - val_loss: 4.7624 - val_mae: 1.7005\n"
          ],
          "name": "stdout"
        }
      ]
    },
    {
      "cell_type": "code",
      "metadata": {
        "id": "ow2BndlOgZc0",
        "colab_type": "code",
        "colab": {}
      },
      "source": [
        "history_dict=history.history\n",
        "history_dict.keys()\n",
        "vl=history_dict['val_loss']\n",
        "l=history_dict['loss']\n",
        "m=history_dict['mae']\n",
        "vm=history_dict['val_mae']"
      ],
      "execution_count": 42,
      "outputs": []
    },
    {
      "cell_type": "code",
      "metadata": {
        "id": "8EEqoFj5hEPV",
        "colab_type": "code",
        "colab": {
          "base_uri": "https://localhost:8080/",
          "height": 296
        },
        "outputId": "bf6ed9f5-ca1c-43b0-f0c6-4b63902470e4"
      },
      "source": [
        "plt.plot(range(0,50),vm)\n",
        "plt.xlabel('Epochs')\n",
        "plt.ylabel('MAE')\n",
        "plt.legend()\n",
        "plt.show()"
      ],
      "execution_count": 44,
      "outputs": [
        {
          "output_type": "stream",
          "text": [
            "No handles with labels found to put in legend.\n"
          ],
          "name": "stderr"
        },
        {
          "output_type": "display_data",
          "data": {
            "image/png": "[encoded data removed]",
            "text/plain": [
              "<Figure size 432x288 with 1 Axes>"
            ]
          },
          "metadata": {
            "tags": [],
            "needs_background": "light"
          }
        }
      ]
    },
    {
      "cell_type": "code",
      "metadata": {
        "id": "viWXXT4Qf9u8",
        "colab_type": "code",
        "colab": {
          "base_uri": "https://localhost:8080/",
          "height": 34
        },
        "outputId": "612a7bed-cc01-4b30-d7f3-7da27fdd88f4"
      },
      "source": [
        "test,test=model.evaluate(test_data,test_targets)"
      ],
      "execution_count": 45,
      "outputs": [
        {
          "output_type": "stream",
          "text": [
            "102/102 [==============================] - 0s 38us/step\n"
          ],
          "name": "stdout"
        }
      ]
    },
    {
      "cell_type": "code",
      "metadata": {
        "id": "gotY1huPgNoh",
        "colab_type": "code",
        "colab": {}
      },
      "source": [
        ""
      ],
      "execution_count": null,
      "outputs": []
    }
  ]
}